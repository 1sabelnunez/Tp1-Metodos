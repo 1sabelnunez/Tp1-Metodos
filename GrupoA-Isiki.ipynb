{
 "cells": [
  {
   "cell_type": "code",
   "execution_count": null,
   "metadata": {},
   "outputs": [],
   "source": []
  },
  {
   "cell_type": "markdown",
   "metadata": {},
   "source": [
    "tp 1 metodos\n",
    "Ejercicio 1. Sean p0, p1, y p2 puntos en R\n",
    "n, y definamos f0(t) = (1 − t)p0 + tp1, f1(t) = (1 − t)p1 + tp2, y\n",
    "g(t) = (1 − t)f0(t) + tf1(t) para 0 ≤ t ≤ 1. Elegir 3 puntos en R\n",
    "2 para lo siguiente:\n",
    "Escribir una funci´on en python que reciba un par´ametro t y una lista de puntos y devuelva el valor f0(t)\n"
   ]
  }
 ],
 "metadata": {
  "language_info": {
   "name": "python"
  }
 },
 "nbformat": 4,
 "nbformat_minor": 2
}
